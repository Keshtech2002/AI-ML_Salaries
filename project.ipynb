{
 "cells": [
  {
   "cell_type": "markdown",
   "metadata": {},
   "source": [
    "# Exploratory Analytics"
   ]
  },
  {
   "cell_type": "markdown",
   "metadata": {},
   "source": [
    "##### Introduction"
   ]
  },
  {
   "cell_type": "markdown",
   "metadata": {},
   "source": [
    "> Introduction to the dataset"
   ]
  },
  {
   "cell_type": "markdown",
   "metadata": {},
   "source": [
    "###### AI-ML_Salaries\n",
    "###### A Data Science portfolio project: Data Science job salaries from 2020 to 2022\n",
    "\n",
    "###### About Dataset\n",
    "The salaries are from [ai-jobs](https://salaries.ai-jobs.net/download/). Ai-jobs collects salary information anonymously from professionals all over the world in the AI/ML and Big Data space and makes it publicly available for anyone to use, share and play around with. The data is being updated regularly with new data coming in, usually on a weekly basis.\n",
    "The primary goal is to have data that can provide better guidance in regards to what's being paid globally. So newbies, experienced pros, hiring managers, recruiters and also startup founders or people wanting to make a career switch can make better informed decisions.\n",
    "\n",
    "The dataset contains one table structured as follow:\n",
    "- **work_year**: The year the salary was paid.\n",
    "- **experience_level**: The experience level in the job during the year with the following possible values:\n",
    "    - **EN**: Entry-level / Junior\n",
    "    - **MI**: Mid-level / Intermediate\n",
    "    - **SE**: Senior-level / Expert\n",
    "    - **EX**: Executive-level / Director\n",
    "- **employment_type**: The type of employement for the role:\n",
    "    - **PT**: Part-time\n",
    "    - **FT**: Full-time\n",
    "    - **CT**: Contract\n",
    "    - **FL**: Freelance\n",
    "- **job_title**: The role worked in during the year.\n",
    "- **salary**: The total gross salary amount paid.\n",
    "- **salary_currency**: The currency of the salary paid as an ISO 4217 currency code.\n",
    "- **salaryinusd**: The salary in USD (FX rate divided by avg. USD rate for the respective year via fxdata.foorilla.com).\n",
    "- **employee_residence**: Employee's primary country of residence in during the work year as an ISO 3166 country code.\n",
    "- **remote_ratio**: The overall amount of work done remotely, possible values are as follows:\n",
    "    - **0**: No remote work (less than 20%)\n",
    "    - **50**: Partially remote\n",
    "    - **100**: Fully remote (more than 80%)\n",
    "- **company_location**: The country of the employer's main office or contracting branch as an ISO 3166 country code.\n",
    "- **company_size**: The average number of people that worked for the company during the year:\n",
    "    - **S**: less than 50 employees (small)\n",
    "    - **M**: 50 to 250 employees (medium)\n",
    "    - **L**: more than 250 employees (large)"
   ]
  },
  {
   "cell_type": "markdown",
   "metadata": {},
   "source": [
    "##### Preliminary Wrangling"
   ]
  },
  {
   "cell_type": "code",
   "execution_count": 42,
   "metadata": {},
   "outputs": [],
   "source": [
    "# imports\n",
    "import numpy as np\n",
    "import pandas as pd\n",
    "import matplotlib.pyplot as plt\n",
    "from pandas.api.types import CategoricalDtype\n",
    "%matplotlib inline"
   ]
  },
  {
   "cell_type": "markdown",
   "metadata": {},
   "source": [
    "> - Loading in dataset with pandas\n",
    "> - Describing the dataset\n",
    "> - Printing out some parts of the table"
   ]
  },
  {
   "cell_type": "code",
   "execution_count": 43,
   "metadata": {},
   "outputs": [
    {
     "name": "stdout",
     "output_type": "stream",
     "text": [
      "This dataset contains 1332 rows and 11 columns, hence (1332, 11)\n",
      "   work_year experience_level employment_type                  job_title  \\\n",
      "0       2022               MI              FT  Machine Learning Engineer   \n",
      "1       2022               MI              FT  Machine Learning Engineer   \n",
      "2       2022               MI              FT             Data Scientist   \n",
      "3       2022               MI              FT             Data Scientist   \n",
      "4       2022               MI              FT             Data Scientist   \n",
      "\n",
      "   salary salary_currency  salary_in_usd employee_residence  remote_ratio  \\\n",
      "0  130000             USD         130000                 US             0   \n",
      "1   90000             USD          90000                 US             0   \n",
      "2  120000             USD         120000                 US           100   \n",
      "3  100000             USD         100000                 US           100   \n",
      "4   85000             USD          85000                 US           100   \n",
      "\n",
      "  company_location company_size  \n",
      "0               US            M  \n",
      "1               US            M  \n",
      "2               US            M  \n",
      "3               US            M  \n",
      "4               US            M  \n",
      "      work_year experience_level employment_type           job_title  salary  \\\n",
      "12         2022               EX              FT        Head of Data  205000   \n",
      "488        2022               MI              FT      Data Scientist   96000   \n",
      "666        2022               MI              FT      Data Scientist   58000   \n",
      "274        2022               SE              FT       Data Engineer   85000   \n",
      "1154       2021               SE              FT  Lead Data Engineer  276000   \n",
      "448        2022               SE              FT      Data Scientist  191475   \n",
      "515        2022               SE              FT      Data Scientist  119300   \n",
      "625        2022               MI              FT        Data Analyst  144100   \n",
      "312        2022               SE              FT         ML Engineer  195400   \n",
      "973        2022               MI              FT      Data Scientist   70000   \n",
      "\n",
      "     salary_currency  salary_in_usd employee_residence  remote_ratio  \\\n",
      "12               USD         205000                 US             0   \n",
      "488              GBP         118900                 GB             0   \n",
      "666              EUR          61066                 DE           100   \n",
      "274              USD          85000                 US           100   \n",
      "1154             USD         276000                 US             0   \n",
      "448              USD         191475                 US           100   \n",
      "515              USD         119300                 US             0   \n",
      "625              USD         144100                 US             0   \n",
      "312              USD         195400                 US           100   \n",
      "973              GBP          86698                 GB             0   \n",
      "\n",
      "     company_location company_size  \n",
      "12                 US            M  \n",
      "488                GB            M  \n",
      "666                DE            S  \n",
      "274                US            M  \n",
      "1154               US            L  \n",
      "448                US            M  \n",
      "515                US            L  \n",
      "625                US            M  \n",
      "312                US            L  \n",
      "973                GB            M  \n",
      "      work_year experience_level employment_type                 job_title  \\\n",
      "1327       2020               SE              FT            Data Scientist   \n",
      "1328       2021               MI              FT  Principal Data Scientist   \n",
      "1329       2020               EN              FT            Data Scientist   \n",
      "1330       2020               EN              CT     Business Data Analyst   \n",
      "1331       2021               SE              FT      Data Science Manager   \n",
      "\n",
      "       salary salary_currency  salary_in_usd employee_residence  remote_ratio  \\\n",
      "1327   412000             USD         412000                 US           100   \n",
      "1328   151000             USD         151000                 US           100   \n",
      "1329   105000             USD         105000                 US           100   \n",
      "1330   100000             USD         100000                 US           100   \n",
      "1331  7000000             INR          94665                 IN            50   \n",
      "\n",
      "     company_location company_size  \n",
      "1327               US            L  \n",
      "1328               US            L  \n",
      "1329               US            S  \n",
      "1330               US            L  \n",
      "1331               IN            L  \n"
     ]
    }
   ],
   "source": [
    "# importing or loading in the dataset using pandas, here I am using a copy of salaries.csv (salaries_usable.csv)\n",
    "salaries_df = pd.read_csv('salaries_usable.csv')\n",
    "\n",
    "# shape of the dataset\n",
    "Shape = salaries_df.shape\n",
    "columns = salaries_df.shape[1]\n",
    "rows = salaries_df.shape[0]\n",
    "\n",
    "print(\"This dataset contains {} rows and {} columns, hence {}\".format(rows, columns, Shape))\n",
    "\n",
    "# print out some part of dataset\n",
    "\n",
    "# Head\n",
    "print(salaries_df.head(5))\n",
    "\n",
    "# 10 random samples\n",
    "print(salaries_df.sample(n = 10))\n",
    "\n",
    "# Tail\n",
    "print(salaries_df.tail())"
   ]
  },
  {
   "cell_type": "markdown",
   "metadata": {},
   "source": [
    "##### Assesssment and Cleaning of the dataset"
   ]
  },
  {
   "cell_type": "markdown",
   "metadata": {},
   "source": [
    "###### **Assessment**"
   ]
  },
  {
   "cell_type": "code",
   "execution_count": 44,
   "metadata": {},
   "outputs": [
    {
     "name": "stdout",
     "output_type": "stream",
     "text": [
      "<class 'pandas.core.frame.DataFrame'>\n",
      "RangeIndex: 1332 entries, 0 to 1331\n",
      "Data columns (total 11 columns):\n",
      " #   Column              Non-Null Count  Dtype \n",
      "---  ------              --------------  ----- \n",
      " 0   work_year           1332 non-null   int64 \n",
      " 1   experience_level    1332 non-null   object\n",
      " 2   employment_type     1332 non-null   object\n",
      " 3   job_title           1332 non-null   object\n",
      " 4   salary              1332 non-null   int64 \n",
      " 5   salary_currency     1332 non-null   object\n",
      " 6   salary_in_usd       1332 non-null   int64 \n",
      " 7   employee_residence  1332 non-null   object\n",
      " 8   remote_ratio        1332 non-null   int64 \n",
      " 9   company_location    1332 non-null   object\n",
      " 10  company_size        1332 non-null   object\n",
      "dtypes: int64(4), object(7)\n",
      "memory usage: 114.6+ KB\n",
      "None\n"
     ]
    }
   ],
   "source": [
    "# Info\n",
    "print(salaries_df.info())"
   ]
  },
  {
   "cell_type": "code",
   "execution_count": 45,
   "metadata": {},
   "outputs": [
    {
     "name": "stdout",
     "output_type": "stream",
     "text": [
      "         work_year        salary  salary_in_usd  remote_ratio\n",
      "count  1332.000000  1.332000e+03    1332.000000   1332.000000\n",
      "mean   2021.716216  2.377124e+05  123374.658408     63.851351\n",
      "std       0.562228  1.077369e+06   65945.872172     45.263587\n",
      "min    2020.000000  2.324000e+03    2324.000000      0.000000\n",
      "25%    2022.000000  8.000000e+04   75593.000000      0.000000\n",
      "50%    2022.000000  1.300000e+05  120000.000000    100.000000\n",
      "75%    2022.000000  1.751000e+05  164997.000000    100.000000\n",
      "max    2022.000000  3.040000e+07  600000.000000    100.000000\n"
     ]
    }
   ],
   "source": [
    "# Display summary statistics for numeric columns\n",
    "print(salaries_df.describe())"
   ]
  },
  {
   "cell_type": "code",
   "execution_count": 46,
   "metadata": {},
   "outputs": [
    {
     "name": "stdout",
     "output_type": "stream",
     "text": [
      "263\n",
      "1069\n",
      "1069\n"
     ]
    }
   ],
   "source": [
    "# Duplicated values\n",
    "# True: duplicated\n",
    "# False: not duplicated, unique\n",
    "print(salaries_df.duplicated().sum())\n",
    "print((~salaries_df.duplicated()).sum())\n",
    "print(salaries_df.shape[0] - salaries_df.duplicated().sum())\n",
    "# salaries_df.duplicated().value_counts()\n",
    "            # output \n",
    "            # False 1069\n",
    "            # True 263"
   ]
  },
  {
   "cell_type": "code",
   "execution_count": 47,
   "metadata": {},
   "outputs": [
    {
     "name": "stdout",
     "output_type": "stream",
     "text": [
      "2022    1029\n",
      "2021     228\n",
      "2020      75\n",
      "Name: work_year, dtype: int64\n",
      "2022    260\n",
      "2021      2\n",
      "2020      1\n",
      "Name: work_year, dtype: int64\n"
     ]
    }
   ],
   "source": [
    "# Display entries for each year for the dataset and duplicates\n",
    "\n",
    "# get the duplicate data\n",
    "duplicates = salaries_df[salaries_df.duplicated()]\n",
    "\n",
    "# print the year entries for the whole dataset\n",
    "print(salaries_df.work_year.value_counts())\n",
    "\n",
    "# print the year entries for duplicates\n",
    "print(duplicates.work_year.value_counts())\n"
   ]
  },
  {
   "cell_type": "markdown",
   "metadata": {},
   "source": [
    "###### **Cleaning**"
   ]
  },
  {
   "cell_type": "code",
   "execution_count": 48,
   "metadata": {},
   "outputs": [],
   "source": [
    "# copy the dataframe for safety\n",
    "salaries_clean = salaries_df.copy()"
   ]
  },
  {
   "cell_type": "code",
   "execution_count": 49,
   "metadata": {},
   "outputs": [],
   "source": [
    "# Function to convert datatype to categorical (ordinal and nominal)\n",
    "def to_category(var: str, ordered: bool, df: pd.DataFrame, categories: list):\n",
    "    \"\"\" Converts type to category\n",
    "            parameters:\n",
    "            var: string, the name of the column to convert type\n",
    "            ordered: boolean, If false, then the categorical is treated as unordered\n",
    "            df: dataframe, \n",
    "            categories: the ordered list of the category\n",
    "            \n",
    "            return: the converted series \n",
    "    \n",
    "    \"\"\"\n",
    "    # Note: based on the pandas version, you need to code differently\n",
    "    pd_ver = pd.__version__.split(\".\")\n",
    "    if (int(pd_ver[0]) > 0) or (int(pd_ver[1]) >= 21): # v0.21 or later\n",
    "        categorize = pd.api.types.CategoricalDtype(ordered = ordered, categories = categories)\n",
    "        df[var] = df[var].astype(categorize)\n",
    "    else: # pre-v0.21\n",
    "        df[var] = df[var].astype('category', ordered = ordered,categories = categories)\n",
    "    return df[var]"
   ]
  },
  {
   "cell_type": "code",
   "execution_count": 50,
   "metadata": {},
   "outputs": [
    {
     "name": "stdout",
     "output_type": "stream",
     "text": [
      "<class 'pandas.core.frame.DataFrame'>\n",
      "RangeIndex: 1332 entries, 0 to 1331\n",
      "Data columns (total 11 columns):\n",
      " #   Column              Non-Null Count  Dtype   \n",
      "---  ------              --------------  -----   \n",
      " 0   work_year           1332 non-null   category\n",
      " 1   experience_level    1332 non-null   category\n",
      " 2   employment_type     1332 non-null   category\n",
      " 3   job_title           1332 non-null   object  \n",
      " 4   salary              1332 non-null   int64   \n",
      " 5   salary_currency     1332 non-null   object  \n",
      " 6   salary_in_usd       1332 non-null   int64   \n",
      " 7   employee_residence  1332 non-null   object  \n",
      " 8   remote_ratio        1332 non-null   category\n",
      " 9   company_location    1332 non-null   object  \n",
      " 10  company_size        1332 non-null   category\n",
      "dtypes: category(5), int64(2), object(4)\n",
      "memory usage: 69.9+ KB\n"
     ]
    }
   ],
   "source": [
    "# Create category type\n",
    "experience = ['EN', 'MI', 'SE', 'EX']\n",
    "company = ['S', 'M', 'L']\n",
    "employment_type = ['PT', 'FT', 'CT', 'FL']\n",
    "remote = [0, 50, 100]\n",
    "year = [2020, 2021, 2022]\n",
    "\n",
    "salaries_clean['experience_level'] = to_category('experience_level', True, salaries_clean, experience) # ordered category\n",
    "salaries_clean['company_size'] = to_category('company_size', True, salaries_clean, company) # ordered category\n",
    "salaries_clean['employment_type'] = to_category('employment_type', False, salaries_clean, employment_type) # unordered category\n",
    "salaries_clean['remote_ratio'] = to_category('remote_ratio', True, salaries_clean, remote) # ordered category\n",
    "salaries_clean['work_year'] = to_category('work_year', True, salaries_clean, year) # ordered category\n",
    "\n",
    "# Test types were converted. Dtype should be category\n",
    "salaries_clean.info()"
   ]
  },
  {
   "cell_type": "code",
   "execution_count": 51,
   "metadata": {},
   "outputs": [
    {
     "name": "stdout",
     "output_type": "stream",
     "text": [
      "263\n"
     ]
    }
   ],
   "source": [
    "# Duplicates still exist?\n",
    "print(salaries_clean.duplicated().sum())"
   ]
  },
  {
   "cell_type": "code",
   "execution_count": 52,
   "metadata": {},
   "outputs": [
    {
     "name": "stdout",
     "output_type": "stream",
     "text": [
      "0\n",
      "(1069, 11)\n"
     ]
    }
   ],
   "source": [
    "# Delete duplicates and reset index\n",
    "salaries_clean.drop_duplicates(inplace= True, ignore_index=True)\n",
    "\n",
    "# Test duplicates were deleted. result should be 0\n",
    "print(salaries_clean.duplicated().sum())\n",
    "\n",
    "# The new dimention of the dataset is = non duplicates\n",
    "print(salaries_clean.shape)"
   ]
  },
  {
   "cell_type": "code",
   "execution_count": null,
   "metadata": {},
   "outputs": [],
   "source": [
    "# Now let's save the non-duplicates into another file as a cleaned data\n",
    "salaries_clean.to_csv('cleaned_salaries_usable.csv', index=False)"
   ]
  }
 ],
 "metadata": {
  "kernelspec": {
   "display_name": "Python 3.8.8 ('base')",
   "language": "python",
   "name": "python3"
  },
  "language_info": {
   "codemirror_mode": {
    "name": "ipython",
    "version": 3
   },
   "file_extension": ".py",
   "mimetype": "text/x-python",
   "name": "python",
   "nbconvert_exporter": "python",
   "pygments_lexer": "ipython3",
   "version": "3.8.8"
  },
  "orig_nbformat": 4,
  "vscode": {
   "interpreter": {
    "hash": "dc07d24e2f18896857f0b2a651fe84ba40ce7b297e58d8804a308c8039f752a6"
   }
  }
 },
 "nbformat": 4,
 "nbformat_minor": 2
}
