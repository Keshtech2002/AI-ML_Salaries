{
 "cells": [
  {
   "cell_type": "markdown",
   "metadata": {},
   "source": [
    "# Exploratory Analytics"
   ]
  },
  {
   "cell_type": "markdown",
   "metadata": {},
   "source": [
    "##### Introduction"
   ]
  },
  {
   "cell_type": "markdown",
   "metadata": {},
   "source": [
    "> Introduction to the dataset"
   ]
  },
  {
   "cell_type": "markdown",
   "metadata": {},
   "source": [
    "###### AI-ML_Salaries\n",
    "###### A Data Science portfolio project: Data Science job salaries from 2020 to 2022\n",
    "\n",
    "###### About Dataset\n",
    "The salaries are from [ai-jobs](https://salaries.ai-jobs.net/download/). Ai-jobs collects salary information anonymously from professionals all over the world in the AI/ML and Big Data space and makes it publicly available for anyone to use, share and play around with. The data is being updated regularly with new data coming in, usually on a weekly basis.\n",
    "The primary goal is to have data that can provide better guidance in regards to what's being paid globally. So newbies, experienced pros, hiring managers, recruiters and also startup founders or people wanting to make a career switch can make better informed decisions.\n",
    "\n",
    "The dataset contains one table structured as follow:\n",
    "- **work_year**: The year the salary was paid.\n",
    "- **experience_level**: The experience level in the job during the year with the following possible values:\n",
    "    - **EN**: Entry-level / Junior\n",
    "    - **MI**: Mid-level / Intermediate\n",
    "    - **SE**: Senior-level / Expert\n",
    "    - **EX**: Executive-level / Director\n",
    "- **employment_type**: The type of employement for the role:\n",
    "    - **PT**: Part-time\n",
    "    - **FT**: Full-time\n",
    "    - **CT**: Contract\n",
    "    - **FL**: Freelance\n",
    "- **job_title**: The role worked in during the year.\n",
    "- **salary**: The total gross salary amount paid.\n",
    "- **salary_currency**: The currency of the salary paid as an ISO 4217 currency code.\n",
    "- **salaryinusd**: The salary in USD (FX rate divided by avg. USD rate for the respective year via fxdata.foorilla.com).\n",
    "- **employee_residence**: Employee's primary country of residence in during the work year as an ISO 3166 country code.\n",
    "- **remote_ratio**: The overall amount of work done remotely, possible values are as follows:\n",
    "    - **0**: No remote work (less than 20%)\n",
    "    - **50**: Partially remote\n",
    "    - **100**: Fully remote (more than 80%)\n",
    "- **company_location**: The country of the employer's main office or contracting branch as an ISO 3166 country code.\n",
    "- **company_size**: The average number of people that worked for the company during the year:\n",
    "    - **S**: less than 50 employees (small)\n",
    "    - **M**: 50 to 250 employees (medium)\n",
    "    - **L**: more than 250 employees (large)"
   ]
  },
  {
   "cell_type": "markdown",
   "metadata": {},
   "source": [
    "##### Preliminary Wrangling"
   ]
  },
  {
   "cell_type": "code",
   "execution_count": 1,
   "metadata": {},
   "outputs": [],
   "source": [
    "# imports\n",
    "import numpy as np\n",
    "import pandas as pd\n",
    "import matplotlib.pyplot as plt\n",
    "%matplotlib inline"
   ]
  },
  {
   "cell_type": "markdown",
   "metadata": {},
   "source": [
    "> - Loading in dataset with pandas\n",
    "> - Describing the dataset\n",
    "> - Printing out some parts of the table"
   ]
  },
  {
   "cell_type": "code",
   "execution_count": 2,
   "metadata": {},
   "outputs": [
    {
     "name": "stdout",
     "output_type": "stream",
     "text": [
      "This dataset contains 1332 rows and 11 columns, hence (1332, 11)\n",
      "   work_year experience_level employment_type                  job_title  \\\n",
      "0       2022               MI              FT  Machine Learning Engineer   \n",
      "1       2022               MI              FT  Machine Learning Engineer   \n",
      "2       2022               MI              FT             Data Scientist   \n",
      "3       2022               MI              FT             Data Scientist   \n",
      "4       2022               MI              FT             Data Scientist   \n",
      "\n",
      "   salary salary_currency  salary_in_usd employee_residence  remote_ratio  \\\n",
      "0  130000             USD         130000                 US             0   \n",
      "1   90000             USD          90000                 US             0   \n",
      "2  120000             USD         120000                 US           100   \n",
      "3  100000             USD         100000                 US           100   \n",
      "4   85000             USD          85000                 US           100   \n",
      "\n",
      "  company_location company_size  \n",
      "0               US            M  \n",
      "1               US            M  \n",
      "2               US            M  \n",
      "3               US            M  \n",
      "4               US            M  \n",
      "      work_year experience_level employment_type  \\\n",
      "967        2022               SE              FT   \n",
      "841        2022               SE              FT   \n",
      "290        2022               SE              FT   \n",
      "998        2022               MI              FT   \n",
      "1139       2021               SE              FT   \n",
      "974        2022               SE              FT   \n",
      "590        2022               SE              FT   \n",
      "156        2022               SE              FT   \n",
      "192        2022               SE              FT   \n",
      "230        2022               SE              FT   \n",
      "\n",
      "                               job_title  salary salary_currency  \\\n",
      "967                       Data Scientist  140000             USD   \n",
      "841                       Data Scientist  123000             USD   \n",
      "290                         Data Analyst   99750             USD   \n",
      "998   Applied Machine Learning Scientist   75000             USD   \n",
      "1139                       Data Engineer  150000             USD   \n",
      "974            Machine Learning Engineer  220000             USD   \n",
      "590            Machine Learning Engineer  167100             USD   \n",
      "156               Product Data Scientist    8000             USD   \n",
      "192                         Data Analyst   85700             USD   \n",
      "230             Machine Learning Manager  200000             USD   \n",
      "\n",
      "      salary_in_usd employee_residence  remote_ratio company_location  \\\n",
      "967          140000                 US           100               US   \n",
      "841          123000                 US           100               US   \n",
      "290           99750                 US           100               US   \n",
      "998           75000                 BO           100               US   \n",
      "1139         150000                 US           100               US   \n",
      "974          220000                 US           100               US   \n",
      "590          167100                 US             0               US   \n",
      "156            8000                 IN           100               SG   \n",
      "192           85700                 US             0               US   \n",
      "230          200000                 US           100               US   \n",
      "\n",
      "     company_size  \n",
      "967             M  \n",
      "841             M  \n",
      "290             M  \n",
      "998             L  \n",
      "1139            M  \n",
      "974             M  \n",
      "590             M  \n",
      "156             L  \n",
      "192             M  \n",
      "230             M  \n",
      "      work_year experience_level employment_type                 job_title  \\\n",
      "1327       2020               SE              FT            Data Scientist   \n",
      "1328       2021               MI              FT  Principal Data Scientist   \n",
      "1329       2020               EN              FT            Data Scientist   \n",
      "1330       2020               EN              CT     Business Data Analyst   \n",
      "1331       2021               SE              FT      Data Science Manager   \n",
      "\n",
      "       salary salary_currency  salary_in_usd employee_residence  remote_ratio  \\\n",
      "1327   412000             USD         412000                 US           100   \n",
      "1328   151000             USD         151000                 US           100   \n",
      "1329   105000             USD         105000                 US           100   \n",
      "1330   100000             USD         100000                 US           100   \n",
      "1331  7000000             INR          94665                 IN            50   \n",
      "\n",
      "     company_location company_size  \n",
      "1327               US            L  \n",
      "1328               US            L  \n",
      "1329               US            S  \n",
      "1330               US            L  \n",
      "1331               IN            L  \n"
     ]
    }
   ],
   "source": [
    "# importing or loading in the dataset using pandas, here I am using a copy of salaries.csv (salaries_usable.csv)\n",
    "salaries_df = pd.read_csv('salaries_usable.csv')\n",
    "\n",
    "# shape of the dataset\n",
    "Shape = salaries_df.shape\n",
    "columns = salaries_df.shape[1]\n",
    "rows = salaries_df.shape[0]\n",
    "\n",
    "print(\"This dataset contains {} rows and {} columns, hence {}\".format(rows, columns, Shape))\n",
    "\n",
    "# print out some part of dataset\n",
    "\n",
    "# Head\n",
    "print(salaries_df.head(5))\n",
    "\n",
    "# 10 random samples\n",
    "print(salaries_df.sample(n = 10))\n",
    "\n",
    "# Tail\n",
    "print(salaries_df.tail())"
   ]
  },
  {
   "cell_type": "markdown",
   "metadata": {},
   "source": [
    "##### Assesssment and Cleaning of the dataset"
   ]
  },
  {
   "cell_type": "markdown",
   "metadata": {},
   "source": [
    "###### Assessment"
   ]
  },
  {
   "cell_type": "code",
   "execution_count": 3,
   "metadata": {},
   "outputs": [
    {
     "name": "stdout",
     "output_type": "stream",
     "text": [
      "<class 'pandas.core.frame.DataFrame'>\n",
      "RangeIndex: 1332 entries, 0 to 1331\n",
      "Data columns (total 11 columns):\n",
      " #   Column              Non-Null Count  Dtype \n",
      "---  ------              --------------  ----- \n",
      " 0   work_year           1332 non-null   int64 \n",
      " 1   experience_level    1332 non-null   object\n",
      " 2   employment_type     1332 non-null   object\n",
      " 3   job_title           1332 non-null   object\n",
      " 4   salary              1332 non-null   int64 \n",
      " 5   salary_currency     1332 non-null   object\n",
      " 6   salary_in_usd       1332 non-null   int64 \n",
      " 7   employee_residence  1332 non-null   object\n",
      " 8   remote_ratio        1332 non-null   int64 \n",
      " 9   company_location    1332 non-null   object\n",
      " 10  company_size        1332 non-null   object\n",
      "dtypes: int64(4), object(7)\n",
      "memory usage: 114.6+ KB\n",
      "None\n"
     ]
    }
   ],
   "source": [
    "# Info\n",
    "print(salaries_df.info())"
   ]
  },
  {
   "cell_type": "code",
   "execution_count": 14,
   "metadata": {},
   "outputs": [
    {
     "name": "stdout",
     "output_type": "stream",
     "text": [
      "263\n",
      "1069\n"
     ]
    }
   ],
   "source": [
    "# Duplicated values\n",
    "# True: duplicated\n",
    "# False: not duplicated, unique\n",
    "print(salaries_df.duplicated().sum())\n",
    "print(salaries_df.shape[0] - salaries_df.duplicated().sum())\n",
    "# salaries_df.duplicated().value_counts()"
   ]
  }
 ],
 "metadata": {
  "kernelspec": {
   "display_name": "Python 3.8.8 ('base')",
   "language": "python",
   "name": "python3"
  },
  "language_info": {
   "codemirror_mode": {
    "name": "ipython",
    "version": 3
   },
   "file_extension": ".py",
   "mimetype": "text/x-python",
   "name": "python",
   "nbconvert_exporter": "python",
   "pygments_lexer": "ipython3",
   "version": "3.8.8"
  },
  "orig_nbformat": 4,
  "vscode": {
   "interpreter": {
    "hash": "dc07d24e2f18896857f0b2a651fe84ba40ce7b297e58d8804a308c8039f752a6"
   }
  }
 },
 "nbformat": 4,
 "nbformat_minor": 2
}
