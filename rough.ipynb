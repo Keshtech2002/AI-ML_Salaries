{
 "cells": [
  {
   "cell_type": "code",
   "execution_count": null,
   "metadata": {},
   "outputs": [],
   "source": [
    "import numpy as np\n",
    "import pandas as pd\n",
    "import matplotlib.pyplot as plt\n",
    "from pandas.api.types import CategoricalDtype\n",
    "import seaborn as sns\n",
    "%matplotlib inline"
   ]
  },
  {
   "cell_type": "code",
   "execution_count": null,
   "metadata": {},
   "outputs": [],
   "source": [
    "pd.__version__.split(\".\")"
   ]
  },
  {
   "cell_type": "code",
   "execution_count": null,
   "metadata": {},
   "outputs": [],
   "source": [
    "category_salaries = pd.read_csv(\"salaries_usable.csv\")\n",
    "safe_category_salaries = category_salaries.copy()"
   ]
  },
  {
   "cell_type": "code",
   "execution_count": null,
   "metadata": {},
   "outputs": [],
   "source": [
    "safe_category_salaries.info()"
   ]
  },
  {
   "cell_type": "code",
   "execution_count": null,
   "metadata": {},
   "outputs": [],
   "source": [
    "classes = pd.api.types.CategoricalDtype(ordered = True, categories = ['EN', 'MI', 'SE', 'EX'])\n",
    "safe_category_salaries['experience_level'] = safe_category_salaries['experience_level'].astype(classes)"
   ]
  },
  {
   "cell_type": "code",
   "execution_count": null,
   "metadata": {},
   "outputs": [],
   "source": [
    "safe_category_salaries.info()"
   ]
  },
  {
   "cell_type": "code",
   "execution_count": null,
   "metadata": {},
   "outputs": [],
   "source": [
    "safe_category_salaries.loc[safe_category_salaries['job_title'].str.contains('Data Scientist'), 'job_title'] = 'Data Scientist'\n",
    "safe_category_salaries.loc[safe_category_salaries['job_title'].str.contains('Data Engineer'), 'job_title'] = 'Data Engineer'\n",
    "safe_category_salaries.loc[safe_category_salaries['job_title'].str.contains('Bi Data Analyst'), 'job_title'] = 'Bi Analyst'\n",
    "safe_category_salaries.loc[safe_category_salaries['job_title'].str.contains('Data Analyst'), 'job_title'] = 'Data Analyst'\n",
    "safe_category_salaries.loc[safe_category_salaries['job_title'].str.contains('Machine Learning'), 'job_title'] = 'Machine Learning Engineer'\n",
    "safe_category_salaries.loc[safe_category_salaries['job_title'].str.contains('ML Engineer'), 'job_title'] = 'Machine Learning Engineer'\n",
    "\n",
    "#Displaying the various job title_name entries \n",
    "sns.set_style('whitegrid')\n",
    "plt.figure(figsize=[12,12], dpi=300)\n",
    "default_color = sns.color_palette()[2]\n",
    "sns.countplot(data=safe_category_salaries,color=default_color, y='job_title')\n",
    "plt.show()"
   ]
  },
  {
   "cell_type": "code",
   "execution_count": null,
   "metadata": {},
   "outputs": [],
   "source": [
    "print(safe_category_salaries['job_title'].unique())\n",
    "print(safe_category_salaries['job_title'].nunique())"
   ]
  },
  {
   "cell_type": "code",
   "execution_count": null,
   "metadata": {},
   "outputs": [],
   "source": [
    "plt.style.available"
   ]
  },
  {
   "cell_type": "code",
   "execution_count": null,
   "metadata": {},
   "outputs": [],
   "source": [
    "# List of categorical variable\n",
    "lim_categoric_vars = ['work_year', 'experience_level', 'company_size', 'employment_type', 'remote_ratio']\n",
    "categoric_vars = ['company_location', 'employee_residence', 'job_title']"
   ]
  },
  {
   "cell_type": "code",
   "execution_count": null,
   "metadata": {},
   "outputs": [],
   "source": [
    "for var in categoric_vars:\n",
    "    z = safe_category_salaries[var].value_counts().head(10)\n",
    "    #order = safe_category_salaries[var].value_counts().head(10).index\n",
    "    #print(safe_category_salaries[safe_category_salaries[var].apply(lambda x: x in z.index)])\n"
   ]
  }
 ],
 "metadata": {
  "kernelspec": {
   "display_name": "Python 3.11.0 64-bit",
   "language": "python",
   "name": "python3"
  },
  "language_info": {
   "codemirror_mode": {
    "name": "ipython",
    "version": 3
   },
   "file_extension": ".py",
   "mimetype": "text/x-python",
   "name": "python",
   "nbconvert_exporter": "python",
   "pygments_lexer": "ipython3",
   "version": "3.11.0"
  },
  "orig_nbformat": 4,
  "vscode": {
   "interpreter": {
    "hash": "1f6a27bcfbe46a917dbd192f4a82657396dda26148bae633192e8d28c70725f1"
   }
  }
 },
 "nbformat": 4,
 "nbformat_minor": 2
}
