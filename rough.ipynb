{
 "cells": [
  {
   "cell_type": "code",
   "execution_count": 1,
   "metadata": {},
   "outputs": [],
   "source": [
    "import pandas as pd"
   ]
  },
  {
   "cell_type": "code",
   "execution_count": 3,
   "metadata": {},
   "outputs": [
    {
     "data": {
      "text/plain": [
       "['1', '2', '4']"
      ]
     },
     "execution_count": 3,
     "metadata": {},
     "output_type": "execute_result"
    }
   ],
   "source": [
    "pd.__version__.split(\".\")"
   ]
  },
  {
   "cell_type": "code",
   "execution_count": 4,
   "metadata": {},
   "outputs": [],
   "source": [
    "category_salaries = pd.read_csv(\"salaries_usable.csv\")\n",
    "safe_category_salaries = category_salaries.copy()"
   ]
  },
  {
   "cell_type": "code",
   "execution_count": 5,
   "metadata": {},
   "outputs": [
    {
     "name": "stdout",
     "output_type": "stream",
     "text": [
      "<class 'pandas.core.frame.DataFrame'>\n",
      "RangeIndex: 1332 entries, 0 to 1331\n",
      "Data columns (total 11 columns):\n",
      " #   Column              Non-Null Count  Dtype \n",
      "---  ------              --------------  ----- \n",
      " 0   work_year           1332 non-null   int64 \n",
      " 1   experience_level    1332 non-null   object\n",
      " 2   employment_type     1332 non-null   object\n",
      " 3   job_title           1332 non-null   object\n",
      " 4   salary              1332 non-null   int64 \n",
      " 5   salary_currency     1332 non-null   object\n",
      " 6   salary_in_usd       1332 non-null   int64 \n",
      " 7   employee_residence  1332 non-null   object\n",
      " 8   remote_ratio        1332 non-null   int64 \n",
      " 9   company_location    1332 non-null   object\n",
      " 10  company_size        1332 non-null   object\n",
      "dtypes: int64(4), object(7)\n",
      "memory usage: 114.6+ KB\n"
     ]
    }
   ],
   "source": [
    "safe_category_salaries.info()"
   ]
  },
  {
   "cell_type": "code",
   "execution_count": 9,
   "metadata": {},
   "outputs": [],
   "source": [
    "classes = pd.api.types.CategoricalDtype(ordered = True, categories = ['EN', 'MI', 'SE', 'EX'])\n",
    "safe_category_salaries['experience_level'] = safe_category_salaries['experience_level'].astype(classes)"
   ]
  },
  {
   "cell_type": "code",
   "execution_count": 11,
   "metadata": {},
   "outputs": [
    {
     "name": "stdout",
     "output_type": "stream",
     "text": [
      "<class 'pandas.core.frame.DataFrame'>\n",
      "RangeIndex: 1332 entries, 0 to 1331\n",
      "Data columns (total 11 columns):\n",
      " #   Column              Non-Null Count  Dtype   \n",
      "---  ------              --------------  -----   \n",
      " 0   work_year           1332 non-null   int64   \n",
      " 1   experience_level    1332 non-null   category\n",
      " 2   employment_type     1332 non-null   object  \n",
      " 3   job_title           1332 non-null   object  \n",
      " 4   salary              1332 non-null   int64   \n",
      " 5   salary_currency     1332 non-null   object  \n",
      " 6   salary_in_usd       1332 non-null   int64   \n",
      " 7   employee_residence  1332 non-null   object  \n",
      " 8   remote_ratio        1332 non-null   int64   \n",
      " 9   company_location    1332 non-null   object  \n",
      " 10  company_size        1332 non-null   object  \n",
      "dtypes: category(1), int64(4), object(6)\n",
      "memory usage: 105.7+ KB\n"
     ]
    }
   ],
   "source": [
    "safe_category_salaries.info()"
   ]
  }
 ],
 "metadata": {
  "kernelspec": {
   "display_name": "Python 3.8.8 ('base')",
   "language": "python",
   "name": "python3"
  },
  "language_info": {
   "codemirror_mode": {
    "name": "ipython",
    "version": 3
   },
   "file_extension": ".py",
   "mimetype": "text/x-python",
   "name": "python",
   "nbconvert_exporter": "python",
   "pygments_lexer": "ipython3",
   "version": "3.8.8"
  },
  "orig_nbformat": 4,
  "vscode": {
   "interpreter": {
    "hash": "dc07d24e2f18896857f0b2a651fe84ba40ce7b297e58d8804a308c8039f752a6"
   }
  }
 },
 "nbformat": 4,
 "nbformat_minor": 2
}
